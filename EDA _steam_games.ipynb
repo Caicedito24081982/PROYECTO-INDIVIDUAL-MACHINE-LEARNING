{
 "cells": [
  {
   "cell_type": "markdown",
   "metadata": {},
   "source": [
    "                                     EDA DATASET \"steam_games.json.gz\""
   ]
  },
  {
   "cell_type": "markdown",
   "metadata": {},
   "source": [
    "                        DESCARGA EN LA TERMINAL BASH DE ALGUNAS LIBRERIAS NECESARIAS"
   ]
  },
  {
   "cell_type": "code",
   "execution_count": 2,
   "metadata": {},
   "outputs": [
    {
     "name": "stdout",
     "output_type": "stream",
     "text": [
      "Número de filas y columnas en el DataFrame: (120445, 13)\n",
      "Primeras 5 filas del DataFrame:\n",
      "  publisher genres app_name title  url release_date tags reviews_url specs  \\\n",
      "0       NaN    NaN      NaN   NaN  NaN          NaN  NaN         NaN   NaN   \n",
      "1       NaN    NaN      NaN   NaN  NaN          NaN  NaN         NaN   NaN   \n",
      "2       NaN    NaN      NaN   NaN  NaN          NaN  NaN         NaN   NaN   \n",
      "3       NaN    NaN      NaN   NaN  NaN          NaN  NaN         NaN   NaN   \n",
      "4       NaN    NaN      NaN   NaN  NaN          NaN  NaN         NaN   NaN   \n",
      "\n",
      "  price early_access   id developer  \n",
      "0   NaN          NaN  NaN       NaN  \n",
      "1   NaN          NaN  NaN       NaN  \n",
      "2   NaN          NaN  NaN       NaN  \n",
      "3   NaN          NaN  NaN       NaN  \n",
      "4   NaN          NaN  NaN       NaN  \n"
     ]
    },
    {
     "name": "stderr",
     "output_type": "stream",
     "text": [
      "c:\\Users\\ASUS\\anaconda3\\lib\\site-packages\\dtale\\views.py:793: FutureWarning:\n",
      "\n",
      "['publisher', 'app_name', 'title', 'url', 'release_date', 'reviews_url', 'price', 'id', 'developer'] did not aggregate successfully. If any error is raised this will raise in a future version of pandas. Drop these columns/ops to avoid this warning.\n",
      "\n"
     ]
    },
    {
     "data": {
      "text/html": [
       "\n",
       "        <iframe\n",
       "            width=\"100%\"\n",
       "            height=\"475\"\n",
       "            src=\"http://DESKTOP-FQN6NIC:40000/dtale/iframe/1\"\n",
       "            frameborder=\"0\"\n",
       "            allowfullscreen\n",
       "            \n",
       "        ></iframe>\n",
       "        "
      ],
      "text/plain": [
       "<IPython.lib.display.IFrame at 0x23aada93ca0>"
      ]
     },
     "metadata": {},
     "output_type": "display_data"
    },
    {
     "data": {
      "text/plain": []
     },
     "execution_count": 2,
     "metadata": {},
     "output_type": "execute_result"
    }
   ],
   "source": [
    "import requests\n",
    "import pandas as pd\n",
    "import gzip\n",
    "import json\n",
    "import dtale\n",
    "\n",
    "# Nueva ID o ruta del archivo en Google Drive\n",
    "file_id = \"13sS6oB9KWJuF3wS36yiuHAAVpcasztUE\"\n",
    "\n",
    "# Ruta de salida deseada\n",
    "output_path = r\"C:\\Users\\ASUS\\PI_ML_OPS\\PI_ML_OPS-\\DATASET\\steam_games.json.gz\"\n",
    "\n",
    "# Construir el enlace de descarga directa desde la nueva ID del archivo\n",
    "download_link = f\"https://drive.google.com/uc?id={file_id}\"\n",
    "\n",
    "# Descargar el archivo usando requests\n",
    "response = requests.get(download_link)\n",
    "with open(output_path, \"wb\") as f:\n",
    "    f.write(response.content)\n",
    "\n",
    "# Procesar el archivo JSON line-delimited\n",
    "json_data = []\n",
    "with gzip.open(output_path, \"rb\") as f:\n",
    "    for line in f:\n",
    "        try:\n",
    "            # Cargar cada línea como un objeto JSON independiente\n",
    "            game_data = json.loads(line)\n",
    "            json_data.append(game_data)\n",
    "        except json.JSONDecodeError:\n",
    "            print(\"Error al cargar una línea como JSON:\", line)\n",
    "\n",
    "# Ahora json_data contiene una lista de objetos JSON\n",
    "# Podemos trabajar con estos objetos JSON según nuestras necesidades.\n",
    "\n",
    "# Ejemplo: Convertir los datos en un DataFrame de pandas\n",
    "df = pd.DataFrame(json_data)\n",
    "\n",
    "# Realizar el análisis exploratorio de datos (EDA) en el DataFrame df.\n",
    "\n",
    "# Ejemplo de EDA simple:\n",
    "print(\"Número de filas y columnas en el DataFrame:\", df.shape)\n",
    "print(\"Primeras 5 filas del DataFrame:\")\n",
    "print(df.head())\n",
    "# Puedes realizar más análisis exploratorio según tus necesidades.\n",
    "\n",
    "# Visualizar el DataFrame utilizando dtale\n",
    "dtale.show(df)\n"
   ]
  },
  {
   "cell_type": "code",
   "execution_count": 3,
   "metadata": {},
   "outputs": [
    {
     "name": "stdout",
     "output_type": "stream",
     "text": [
      "El archivo C:\\Users\\ASUS\\PI_ML_OPS\\PI_ML_OPS-\\DATASET\\steam_games.json.gz existe.\n",
      "Número de filas y columnas en el DataFrame: (120445, 13)\n",
      "Primeras 5 filas del DataFrame:\n",
      "  publisher genres app_name title  url release_date tags reviews_url specs  \\\n",
      "0       NaN    NaN      NaN   NaN  NaN          NaN  NaN         NaN   NaN   \n",
      "1       NaN    NaN      NaN   NaN  NaN          NaN  NaN         NaN   NaN   \n",
      "2       NaN    NaN      NaN   NaN  NaN          NaN  NaN         NaN   NaN   \n",
      "3       NaN    NaN      NaN   NaN  NaN          NaN  NaN         NaN   NaN   \n",
      "4       NaN    NaN      NaN   NaN  NaN          NaN  NaN         NaN   NaN   \n",
      "\n",
      "  price early_access   id developer  \n",
      "0   NaN          NaN  NaN       NaN  \n",
      "1   NaN          NaN  NaN       NaN  \n",
      "2   NaN          NaN  NaN       NaN  \n",
      "3   NaN          NaN  NaN       NaN  \n",
      "4   NaN          NaN  NaN       NaN  \n"
     ]
    },
    {
     "name": "stderr",
     "output_type": "stream",
     "text": [
      "c:\\Users\\ASUS\\anaconda3\\lib\\site-packages\\dtale\\views.py:793: FutureWarning:\n",
      "\n",
      "['publisher', 'app_name', 'title', 'url', 'release_date', 'reviews_url', 'price', 'id', 'developer'] did not aggregate successfully. If any error is raised this will raise in a future version of pandas. Drop these columns/ops to avoid this warning.\n",
      "\n"
     ]
    },
    {
     "name": "stdout",
     "output_type": "stream",
     "text": [
      "\n",
      "Todas las columnas han sido visualizadas correctamente.\n",
      "\n",
      "No hay columnas con datos anidados.\n",
      "\n",
      "El archivo ha sido visualizado perfectamente y está listo para la transformación.\n",
      "No hay columnas numéricas para generar el diagrama de caja.\n"
     ]
    }
   ],
   "source": [
    "import os\n",
    "import requests\n",
    "import pandas as pd\n",
    "import gzip\n",
    "import json\n",
    "import dtale\n",
    "import matplotlib.pyplot as plt\n",
    "\n",
    "# Nueva ID o ruta del archivo en Google Drive\n",
    "file_id = \"13sS6oB9KWJuF3wS36yiuHAAVpcasztUE\"\n",
    "output_path = \"C:\\\\Users\\\\ASUS\\\\PI_ML_OPS\\\\PI_ML_OPS-\\\\DATASET\\\\steam_games.json.gz\"\n",
    "\n",
    "# Construir el enlace de descarga directa desde la nueva ID del archivo\n",
    "download_link = f\"https://drive.google.com/uc?id={file_id}\"\n",
    "\n",
    "# Descargar el archivo usando requests\n",
    "response = requests.get(download_link)\n",
    "with open(output_path, \"wb\") as f:\n",
    "    f.write(response.content)\n",
    "\n",
    "# Ruta completa del archivo\n",
    "file_path = \"C:\\\\Users\\\\ASUS\\\\PI_ML_OPS\\\\PI_ML_OPS-\\\\DATASET\\\\steam_games.json.gz\"\n",
    "\n",
    "# Verificar la existencia del archivo\n",
    "if os.path.exists(file_path):\n",
    "    print(f\"El archivo {file_path} existe.\")\n",
    "else:\n",
    "    print(f\"El archivo {file_path} no existe.\")\n",
    "\n",
    "# Procesar el archivo JSON line-delimited\n",
    "json_data = []\n",
    "with gzip.open(file_path, \"rb\") as f:\n",
    "    for line in f:\n",
    "        try:\n",
    "            # Cargar cada línea como un objeto JSON independiente\n",
    "            game_data = json.loads(line)\n",
    "            json_data.append(game_data)\n",
    "        except json.JSONDecodeError:\n",
    "            print(\"Error al cargar una línea como JSON:\", line)\n",
    "\n",
    "# Ahora json_data contiene una lista de objetos JSON\n",
    "# Podemos trabajar con estos objetos JSON según nuestras necesidades.\n",
    "\n",
    "# Ejemplo: Convertir los datos en un DataFrame de pandas\n",
    "df = pd.DataFrame(json_data)\n",
    "\n",
    "# Realizar el análisis exploratorio de datos (EDA) en el DataFrame df.\n",
    "\n",
    "# Ejemplo de EDA simple:\n",
    "print(\"Número de filas y columnas en el DataFrame:\", df.shape)\n",
    "print(\"Primeras 5 filas del DataFrame:\")\n",
    "print(df.head())\n",
    "# Puedes realizar más análisis exploratorio según tus necesidades.\n",
    "\n",
    "# Visualizar el DataFrame utilizando dtale\n",
    "dtale.show(df)\n",
    "\n",
    "# Verificar columnas no visualizadas y datos anidados\n",
    "columnas_no_visualizadas = set(df.columns) - set(df.columns)\n",
    "\n",
    "if columnas_no_visualizadas:\n",
    "    print(f\"\\nColumnas no visualizadas: {', '.join(columnas_no_visualizadas)}\")\n",
    "else:\n",
    "    print(\"\\nTodas las columnas han sido visualizadas correctamente.\")\n",
    "\n",
    "# Verificar si hay columnas con datos anidados\n",
    "columnas_con_anidados = []\n",
    "\n",
    "for columna in df.columns:\n",
    "    if isinstance(df[columna].iloc[0], (list, dict)):\n",
    "        columnas_con_anidados.append(columna)\n",
    "\n",
    "if columnas_con_anidados:\n",
    "    print(f\"\\nColumnas con datos anidados: {', '.join(columnas_con_anidados)}\")\n",
    "else:\n",
    "    print(\"\\nNo hay columnas con datos anidados.\")\n",
    "\n",
    "# Verificar si hay problemas adicionales para la transformación\n",
    "# (puedes agregar verificaciones personalizadas según tus necesidades)\n",
    "if columnas_no_visualizadas or columnas_con_anidados:\n",
    "    print(\"\\nEl archivo tiene problemas y puede requerir ajustes para la transformación.\")\n",
    "else:\n",
    "    print(\"\\nEl archivo ha sido visualizado perfectamente y está listo para la transformación.\")\n",
    "\n",
    "# Verificar outliers utilizando diagramas de caja solo para columnas numéricas\n",
    "columnas_numericas = df.select_dtypes(include=['number']).columns\n",
    "\n",
    "if not columnas_numericas.empty:\n",
    "    plt.figure(figsize=(12, 6))\n",
    "    df[columnas_numericas].boxplot()\n",
    "    plt.title(\"Diagrama de Caja para Identificar Outliers\")\n",
    "    plt.xticks(rotation=90)\n",
    "    plt.show()\n",
    "else:\n",
    "    print(\"No hay columnas numéricas para generar el diagrama de caja.\")\n"
   ]
  },
  {
   "cell_type": "code",
   "execution_count": 4,
   "metadata": {},
   "outputs": [
    {
     "name": "stdout",
     "output_type": "stream",
     "text": [
      "<class 'pandas.core.frame.DataFrame'>\n",
      "RangeIndex: 120445 entries, 0 to 120444\n",
      "Data columns (total 13 columns):\n",
      " #   Column        Non-Null Count  Dtype \n",
      "---  ------        --------------  ----- \n",
      " 0   publisher     24083 non-null  object\n",
      " 1   genres        28852 non-null  object\n",
      " 2   app_name      32133 non-null  object\n",
      " 3   title         30085 non-null  object\n",
      " 4   url           32135 non-null  object\n",
      " 5   release_date  30068 non-null  object\n",
      " 6   tags          31972 non-null  object\n",
      " 7   reviews_url   32133 non-null  object\n",
      " 8   specs         31465 non-null  object\n",
      " 9   price         30758 non-null  object\n",
      " 10  early_access  32135 non-null  object\n",
      " 11  id            32133 non-null  object\n",
      " 12  developer     28836 non-null  object\n",
      "dtypes: object(13)\n",
      "memory usage: 11.9+ MB\n"
     ]
    },
    {
     "data": {
      "text/html": [
       "<div>\n",
       "<style scoped>\n",
       "    .dataframe tbody tr th:only-of-type {\n",
       "        vertical-align: middle;\n",
       "    }\n",
       "\n",
       "    .dataframe tbody tr th {\n",
       "        vertical-align: top;\n",
       "    }\n",
       "\n",
       "    .dataframe thead th {\n",
       "        text-align: right;\n",
       "    }\n",
       "</style>\n",
       "<table border=\"1\" class=\"dataframe\">\n",
       "  <thead>\n",
       "    <tr style=\"text-align: right;\">\n",
       "      <th></th>\n",
       "      <th>publisher</th>\n",
       "      <th>genres</th>\n",
       "      <th>app_name</th>\n",
       "      <th>title</th>\n",
       "      <th>url</th>\n",
       "      <th>release_date</th>\n",
       "      <th>tags</th>\n",
       "      <th>reviews_url</th>\n",
       "      <th>specs</th>\n",
       "      <th>price</th>\n",
       "      <th>early_access</th>\n",
       "      <th>id</th>\n",
       "      <th>developer</th>\n",
       "    </tr>\n",
       "  </thead>\n",
       "  <tbody>\n",
       "    <tr>\n",
       "      <th>0</th>\n",
       "      <td>NaN</td>\n",
       "      <td>NaN</td>\n",
       "      <td>NaN</td>\n",
       "      <td>NaN</td>\n",
       "      <td>NaN</td>\n",
       "      <td>NaN</td>\n",
       "      <td>NaN</td>\n",
       "      <td>NaN</td>\n",
       "      <td>NaN</td>\n",
       "      <td>NaN</td>\n",
       "      <td>NaN</td>\n",
       "      <td>NaN</td>\n",
       "      <td>NaN</td>\n",
       "    </tr>\n",
       "    <tr>\n",
       "      <th>1</th>\n",
       "      <td>NaN</td>\n",
       "      <td>NaN</td>\n",
       "      <td>NaN</td>\n",
       "      <td>NaN</td>\n",
       "      <td>NaN</td>\n",
       "      <td>NaN</td>\n",
       "      <td>NaN</td>\n",
       "      <td>NaN</td>\n",
       "      <td>NaN</td>\n",
       "      <td>NaN</td>\n",
       "      <td>NaN</td>\n",
       "      <td>NaN</td>\n",
       "      <td>NaN</td>\n",
       "    </tr>\n",
       "    <tr>\n",
       "      <th>2</th>\n",
       "      <td>NaN</td>\n",
       "      <td>NaN</td>\n",
       "      <td>NaN</td>\n",
       "      <td>NaN</td>\n",
       "      <td>NaN</td>\n",
       "      <td>NaN</td>\n",
       "      <td>NaN</td>\n",
       "      <td>NaN</td>\n",
       "      <td>NaN</td>\n",
       "      <td>NaN</td>\n",
       "      <td>NaN</td>\n",
       "      <td>NaN</td>\n",
       "      <td>NaN</td>\n",
       "    </tr>\n",
       "    <tr>\n",
       "      <th>3</th>\n",
       "      <td>NaN</td>\n",
       "      <td>NaN</td>\n",
       "      <td>NaN</td>\n",
       "      <td>NaN</td>\n",
       "      <td>NaN</td>\n",
       "      <td>NaN</td>\n",
       "      <td>NaN</td>\n",
       "      <td>NaN</td>\n",
       "      <td>NaN</td>\n",
       "      <td>NaN</td>\n",
       "      <td>NaN</td>\n",
       "      <td>NaN</td>\n",
       "      <td>NaN</td>\n",
       "    </tr>\n",
       "    <tr>\n",
       "      <th>4</th>\n",
       "      <td>NaN</td>\n",
       "      <td>NaN</td>\n",
       "      <td>NaN</td>\n",
       "      <td>NaN</td>\n",
       "      <td>NaN</td>\n",
       "      <td>NaN</td>\n",
       "      <td>NaN</td>\n",
       "      <td>NaN</td>\n",
       "      <td>NaN</td>\n",
       "      <td>NaN</td>\n",
       "      <td>NaN</td>\n",
       "      <td>NaN</td>\n",
       "      <td>NaN</td>\n",
       "    </tr>\n",
       "  </tbody>\n",
       "</table>\n",
       "</div>"
      ],
      "text/plain": [
       "  publisher genres app_name title  url release_date tags reviews_url specs  \\\n",
       "0       NaN    NaN      NaN   NaN  NaN          NaN  NaN         NaN   NaN   \n",
       "1       NaN    NaN      NaN   NaN  NaN          NaN  NaN         NaN   NaN   \n",
       "2       NaN    NaN      NaN   NaN  NaN          NaN  NaN         NaN   NaN   \n",
       "3       NaN    NaN      NaN   NaN  NaN          NaN  NaN         NaN   NaN   \n",
       "4       NaN    NaN      NaN   NaN  NaN          NaN  NaN         NaN   NaN   \n",
       "\n",
       "  price early_access   id developer  \n",
       "0   NaN          NaN  NaN       NaN  \n",
       "1   NaN          NaN  NaN       NaN  \n",
       "2   NaN          NaN  NaN       NaN  \n",
       "3   NaN          NaN  NaN       NaN  \n",
       "4   NaN          NaN  NaN       NaN  "
      ]
     },
     "execution_count": 4,
     "metadata": {},
     "output_type": "execute_result"
    }
   ],
   "source": [
    "df.info()\n",
    "df.head(5)"
   ]
  },
  {
   "cell_type": "code",
   "execution_count": 4,
   "metadata": {},
   "outputs": [
    {
     "name": "stdout",
     "output_type": "stream",
     "text": [
      "       publisher    genres    app_name       title  \\\n",
      "count      24083     28852       32133       30085   \n",
      "unique      8239       883       32094       30054   \n",
      "top      Ubisoft  [Action]  Soundtrack  Soundtrack   \n",
      "freq         385      1880           3           3   \n",
      "\n",
      "                                                      url release_date  \\\n",
      "count                                               32135        30068   \n",
      "unique                                              32135         3582   \n",
      "top     http://store.steampowered.com/app/761140/Lost_...   2012-10-16   \n",
      "freq                                                    1          100   \n",
      "\n",
      "                        tags  \\\n",
      "count                  31972   \n",
      "unique                 15395   \n",
      "top     [Casual, Simulation]   \n",
      "freq                    1292   \n",
      "\n",
      "                                              reviews_url            specs  \\\n",
      "count                                               32133            31465   \n",
      "unique                                              32132             4649   \n",
      "top     http://steamcommunity.com/app/612880/reviews/?...  [Single-player]   \n",
      "freq                                                    2             2794   \n",
      "\n",
      "           price early_access      id                developer  \n",
      "count   30758.00        32135   32133                    28836  \n",
      "unique    162.00            2   32132                    10992  \n",
      "top         4.99        False  612880  Ubisoft - San Francisco  \n",
      "freq     4278.00        30188       2                     1259  \n"
     ]
    }
   ],
   "source": [
    "import pandas as pd\n",
    "\n",
    "# Con el siguiente codigo, Obtendremos una estadística descriptiva, pero, en este caso, para todas las columnas\n",
    "descriptivas = df.describe(include='all')\n",
    "\n",
    "# Muestra la estadística descriptiva\n",
    "print(descriptivas)\n"
   ]
  },
  {
   "cell_type": "code",
   "execution_count": 5,
   "metadata": {},
   "outputs": [
    {
     "name": "stdout",
     "output_type": "stream",
     "text": [
      "Requirement already satisfied: typing-extensions in c:\\users\\asus\\anaconda3\\lib\\site-packages (4.9.0)\n",
      "Note: you may need to restart the kernel to use updated packages.\n"
     ]
    }
   ],
   "source": [
    "pip install --upgrade typing-extensions"
   ]
  },
  {
   "cell_type": "code",
   "execution_count": 7,
   "metadata": {},
   "outputs": [
    {
     "name": "stderr",
     "output_type": "stream",
     "text": [
      "2024-01-31 19:38:24,121 - INFO     - Pandas backend loaded 1.5.3\n",
      "2024-01-31 19:38:24,195 - INFO     - Numpy backend loaded 1.23.5\n",
      "2024-01-31 19:38:24,199 - INFO     - Pyspark backend NOT loaded\n",
      "2024-01-31 19:38:24,200 - INFO     - Python backend loaded\n"
     ]
    },
    {
     "data": {
      "application/vnd.jupyter.widget-view+json": {
       "model_id": "6b6a9817f065416da568c79979a926d6",
       "version_major": 2,
       "version_minor": 0
      },
      "text/plain": [
       "Summarize dataset:   0%|          | 0/5 [00:00<?, ?it/s]"
      ]
     },
     "metadata": {},
     "output_type": "display_data"
    },
    {
     "data": {
      "application/vnd.jupyter.widget-view+json": {
       "model_id": "cce975ceda16479c9ef1c66b515dfbbd",
       "version_major": 2,
       "version_minor": 0
      },
      "text/plain": [
       "Generate report structure:   0%|          | 0/1 [00:00<?, ?it/s]"
      ]
     },
     "metadata": {},
     "output_type": "display_data"
    },
    {
     "data": {
      "application/vnd.jupyter.widget-view+json": {
       "model_id": "c9bab2c3e04b497081632e45d09a7cf7",
       "version_major": 2,
       "version_minor": 0
      },
      "text/plain": [
       "Render HTML:   0%|          | 0/1 [00:00<?, ?it/s]"
      ]
     },
     "metadata": {},
     "output_type": "display_data"
    },
    {
     "data": {
      "application/vnd.jupyter.widget-view+json": {
       "model_id": "479215de82ce45609c1dd818703ec4d5",
       "version_major": 2,
       "version_minor": 0
      },
      "text/plain": [
       "Export report to file:   0%|          | 0/1 [00:00<?, ?it/s]"
      ]
     },
     "metadata": {},
     "output_type": "display_data"
    },
    {
     "name": "stdout",
     "output_type": "stream",
     "text": [
      "Informe guardado exitosamente en: C:\\Users\\ASUS\\PI_ML_OPS\\PI_ML_OPS-\\INFORMES GENERADOS PARA EL DATASET\\informe_steam_games.html\n"
     ]
    }
   ],
   "source": [
    "import gzip\n",
    "import pandas as pd\n",
    "from ydata_profiling import ProfileReport\n",
    "\n",
    "# Ajusta la ruta y el nombre del archivo según tu configuración\n",
    "file_path = 'C:\\\\Users\\\\ASUS\\\\PI_ML_OPS\\\\PI_ML_OPS-\\\\DATASET\\\\steam_games.json.gz'\n",
    "\n",
    "# Descomprime el archivo y carga los datos JSON\n",
    "with gzip.open(file_path, 'rb') as f:\n",
    "    df = pd.read_json(f, lines=True)\n",
    "\n",
    "# Reemplazar '?' con NaN en todo el DataFrame\n",
    "df.replace('?', pd.NA, inplace=True)\n",
    "\n",
    "# Genera el informe\n",
    "profile = ProfileReport(df)\n",
    "\n",
    "# Guarda el informe en un archivo HTML en la ruta especificada\n",
    "ruta_informe = \"C:\\\\Users\\\\ASUS\\\\PI_ML_OPS\\\\PI_ML_OPS-\\\\INFORMES GENERADOS PARA EL DATASET\\\\informe_steam_games.html\"\n",
    "profile.to_file(ruta_informe)\n",
    "\n",
    "print(f\"Informe guardado exitosamente en: {ruta_informe}\")\n"
   ]
  },
  {
   "cell_type": "markdown",
   "metadata": {},
   "source": [
    "                                                          ETL"
   ]
  },
  {
   "cell_type": "markdown",
   "metadata": {},
   "source": [
    "Convertir listas a strings: Antes de llamar a drop_duplicates(), convierte las columnas que contienen listas a strings."
   ]
  },
  {
   "cell_type": "code",
   "execution_count": 16,
   "metadata": {},
   "outputs": [],
   "source": [
    "import pandas as pd\n",
    "import gzip\n",
    "import json\n",
    "\n",
    "file_path = 'C:\\\\Users\\\\ASUS\\\\PI_ML_OPS\\\\PI_ML_OPS-\\\\DATASET\\\\steam_games.json.gz'\n",
    "\n",
    "# Descomprimir y leer el archivo JSON\n",
    "if os.path.exists(file_path):\n",
    "    with gzip.open(file_path, 'rt', encoding='utf-8') as f:\n",
    "        data = [json.loads(line) for line in f]\n",
    "\n",
    "    df_clean = pd.DataFrame(data)\n",
    "\n",
    "    # Aplicar transformaciones a las columnas específicas\n",
    "    for col in ['tags', 'genres', 'specs']:\n",
    "        if col in df_clean.columns:\n",
    "            df_clean[col] = df_clean[col].apply(lambda x: str(x) if isinstance(x, list) else x)\n",
    "\n",
    "    # Continúa con el resto de tu código...\n",
    "else:\n",
    "    print(f\"Error: El archivo '{file_path}' no existe en la ruta especificada.\")\n"
   ]
  },
  {
   "cell_type": "markdown",
   "metadata": {},
   "source": [
    "Se procede con la eliminación de duplicados "
   ]
  },
  {
   "cell_type": "code",
   "execution_count": 17,
   "metadata": {},
   "outputs": [
    {
     "name": "stdout",
     "output_type": "stream",
     "text": [
      "Número de filas y columnas en el DataFrame limpio: (32135, 13)\n",
      "Primeras 5 filas del DataFrame limpio:\n",
      "              publisher                                             genres  \\\n",
      "88310         Kotoshiro  ['Action', 'Casual', 'Indie', 'Simulation', 'S...   \n",
      "88311  Making Fun, Inc.       ['Free to Play', 'Indie', 'RPG', 'Strategy']   \n",
      "88312      Poolians.com  ['Casual', 'Free to Play', 'Indie', 'Simulatio...   \n",
      "88313              彼岸领域                  ['Action', 'Adventure', 'Casual']   \n",
      "88314              None                                               None   \n",
      "\n",
      "                      app_name                    title  \\\n",
      "88310      Lost Summoner Kitty      Lost Summoner Kitty   \n",
      "88311                Ironbound                Ironbound   \n",
      "88312  Real Pool 3D - Poolians  Real Pool 3D - Poolians   \n",
      "88313                  弹炸人2222                  弹炸人2222   \n",
      "88314            Log Challenge                     None   \n",
      "\n",
      "                                                     url release_date  \\\n",
      "88310  http://store.steampowered.com/app/761140/Lost_...   2018-01-04   \n",
      "88311  http://store.steampowered.com/app/643980/Ironb...   2018-01-04   \n",
      "88312  http://store.steampowered.com/app/670290/Real_...   2017-07-24   \n",
      "88313     http://store.steampowered.com/app/767400/2222/   2017-12-07   \n",
      "88314  http://store.steampowered.com/app/773570/Log_C...         None   \n",
      "\n",
      "                                                    tags  \\\n",
      "88310  ['Strategy', 'Action', 'Indie', 'Casual', 'Sim...   \n",
      "88311  ['Free to Play', 'Strategy', 'Indie', 'RPG', '...   \n",
      "88312  ['Free to Play', 'Simulation', 'Sports', 'Casu...   \n",
      "88313                  ['Action', 'Adventure', 'Casual']   \n",
      "88314            ['Action', 'Indie', 'Casual', 'Sports']   \n",
      "\n",
      "                                             reviews_url  \\\n",
      "88310  http://steamcommunity.com/app/761140/reviews/?...   \n",
      "88311  http://steamcommunity.com/app/643980/reviews/?...   \n",
      "88312  http://steamcommunity.com/app/670290/reviews/?...   \n",
      "88313  http://steamcommunity.com/app/767400/reviews/?...   \n",
      "88314  http://steamcommunity.com/app/773570/reviews/?...   \n",
      "\n",
      "                                                   specs         price  \\\n",
      "88310                                  ['Single-player']          4.99   \n",
      "88311  ['Single-player', 'Multi-player', 'Online Mult...  Free To Play   \n",
      "88312  ['Single-player', 'Multi-player', 'Online Mult...  Free to Play   \n",
      "88313                                  ['Single-player']          0.99   \n",
      "88314  ['Single-player', 'Full controller support', '...          2.99   \n",
      "\n",
      "       early_access        id         developer  \n",
      "88310           0.0  761140.0         Kotoshiro  \n",
      "88311           0.0  643980.0  Secret Level SRL  \n",
      "88312           0.0  670290.0      Poolians.com  \n",
      "88313           0.0  767400.0              彼岸领域  \n",
      "88314           0.0  773570.0              None  \n",
      "Informe HTML generado exitosamente.\n"
     ]
    },
    {
     "data": {
      "text/plain": [
       "True"
      ]
     },
     "execution_count": 17,
     "metadata": {},
     "output_type": "execute_result"
    }
   ],
   "source": [
    "import pandas as pd\n",
    "import os\n",
    "import webbrowser\n",
    "\n",
    "# Asumiendo que df es tu DataFrame\n",
    "\n",
    "# Convertir columnas que contienen listas a cadenas de texto\n",
    "for col in ['tags', 'genres', 'specs']:  # Ajusta la lista de columnas según sea necesario\n",
    "    if col in df.columns:\n",
    "        df[col] = df[col].apply(lambda x: str(x) if isinstance(x, list) else x)\n",
    "\n",
    "# Eliminar filas completamente nulas\n",
    "df_clean = df.dropna(how='all')\n",
    "\n",
    "# Ahora puedes eliminar filas duplicadas sin error\n",
    "df_clean = df_clean.drop_duplicates()\n",
    "\n",
    "# Resto del código sigue igual...\n",
    "# Rellenar o eliminar valores faltantes según sea necesario\n",
    "# Ejemplo: df_clean['publisher'].fillna('Desconocido', inplace=True)\n",
    "# Para columnas con altos porcentajes de faltantes, considera si es mejor eliminarlas\n",
    "\n",
    "# Convertir o limpiar tipos de datos no compatibles\n",
    "# Esto dependerá de los datos específicos y puede requerir transformaciones personalizadas\n",
    "\n",
    "# Verificar la nueva forma del DataFrame limpio\n",
    "print(\"Número de filas y columnas en el DataFrame limpio:\", df_clean.shape)\n",
    "\n",
    "# Ver las primeras filas del DataFrame limpio\n",
    "print(\"Primeras 5 filas del DataFrame limpio:\")\n",
    "print(df_clean.head())\n",
    "\n",
    "# Generar un informe HTML del DataFrame limpio\n",
    "html_report = df_clean.to_html()\n",
    "\n",
    "# Especificar la ruta donde se guardará el informe\n",
    "directorio_informes = r\"C:\\Users\\ASUS\\PI_ML_OPS\\PI_ML_OPS-\\DATA CLEAN\"\n",
    "ruta_informe = os.path.join(directorio_informes, \"data_clean_report.html\")\n",
    "\n",
    "# Escribir el informe HTML en el archivo\n",
    "with open(ruta_informe, 'w', encoding='utf-8') as f:\n",
    "    f.write(html_report)\n",
    "    print(\"Informe HTML generado exitosamente.\")\n",
    "\n",
    "# Abrir el informe en el navegador web predeterminado\n",
    "webbrowser.open(ruta_informe)\n"
   ]
  },
  {
   "cell_type": "code",
   "execution_count": null,
   "metadata": {},
   "outputs": [
    {
     "name": "stdout",
     "output_type": "stream",
     "text": [
      "DataFrame combinado y limpio guardado como JSON en: C:\\Users\\ASUS\\PI_ML_OPS\\PI_ML_OPS-\\dataAPI\\combined_steam_game_cleaned_data.json\n",
      "Informe HTML generado y guardado en: C:\\Users\\ASUS\\PI_ML_OPS\\PI_ML_OPS-\\dataAPI\\data_clean_report.html\n"
     ]
    },
    {
     "name": "stderr",
     "output_type": "stream",
     "text": [
      "2024-01-31 20:37:14,430 - INFO     - Executing shutdown due to inactivity...\n",
      "2024-01-31 20:37:23,619 - INFO     - Executing shutdown...\n",
      "2024-01-31 20:37:23,628 - INFO     - Not running with the Werkzeug Server, exiting by searching gc for BaseWSGIServer\n"
     ]
    }
   ],
   "source": [
    "import pandas as pd\n",
    "import os\n",
    "import webbrowser\n",
    "\n",
    "# Asumiendo que 'df' es tu DataFrame original\n",
    "\n",
    "# Convertir columnas que contienen listas a cadenas de texto\n",
    "for col in ['tags', 'genres', 'specs']:\n",
    "    if col in df.columns:\n",
    "        df[col] = df[col].apply(lambda x: str(x) if isinstance(x, list) else x)\n",
    "\n",
    "# Eliminar filas completamente nulas y duplicadas\n",
    "df_clean = df.dropna(how='all').drop_duplicates()\n",
    "\n",
    "# Seleccionar y combinar columnas específicas\n",
    "selected_columns_df = df_clean[['developer', 'release_date', 'price', 'early_access', 'id', 'genres']]\n",
    "\n",
    "# Especificar la ruta de salida para el archivo JSON y para el informe HTML\n",
    "output_path = r\"C:\\Users\\ASUS\\PI_ML_OPS\\PI_ML_OPS-\\dataAPI\"\n",
    "json_file_path = os.path.join(output_path, \"combined_steam_game_cleaned_data.json\")\n",
    "html_report_path = os.path.join(output_path, \"data_clean_report.html\")\n",
    "\n",
    "# Guardar el DataFrame combinado como JSON\n",
    "selected_columns_df.to_json(json_file_path, orient='records', lines=True)\n",
    "\n",
    "# Generar un informe HTML del DataFrame combinado\n",
    "html_report = selected_columns_df.to_html()\n",
    "\n",
    "# Guardar el informe HTML\n",
    "with open(html_report_path, 'w', encoding='utf-8') as f:\n",
    "    f.write(html_report)\n",
    "\n",
    "# Abrir el informe HTML en el navegador web\n",
    "webbrowser.open(html_report_path)\n",
    "\n",
    "print(f\"DataFrame combinado y limpio guardado como JSON en: {json_file_path}\")\n",
    "print(f\"Informe HTML generado y guardado en: {html_report_path}\")\n"
   ]
  }
 ],
 "metadata": {
  "kernelspec": {
   "display_name": "base",
   "language": "python",
   "name": "python3"
  },
  "language_info": {
   "codemirror_mode": {
    "name": "ipython",
    "version": 3
   },
   "file_extension": ".py",
   "mimetype": "text/x-python",
   "name": "python",
   "nbconvert_exporter": "python",
   "pygments_lexer": "ipython3",
   "version": "3.10.9"
  }
 },
 "nbformat": 4,
 "nbformat_minor": 2
}
